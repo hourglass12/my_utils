{
 "cells": [
  {
   "cell_type": "code",
   "execution_count": 10,
   "metadata": {},
   "outputs": [],
   "source": [
    "import matplotlib.pyplot as plt\n",
    "import pandas as pd\n",
    "import torch\n",
    "from torch import nn, Tensor\n",
    "import torch.nn.functional as F\n",
    "from torchtext.vocab import vocab\n",
    "import torchtext.transforms as T\n",
    "import torch.optim as optim\n",
    "from torch.utils.data import Dataset, DataLoader\n",
    "from torchvision import transforms\n",
    "import numpy as np\n",
    "import math\n",
    "import janome\n",
    "from janome.tokenizer import Tokenizer\n",
    "import spacy\n",
    "from collections import Counter"
   ]
  },
  {
   "cell_type": "code",
   "execution_count": 12,
   "metadata": {},
   "outputs": [],
   "source": [
    "# read data\n",
    "df = pd.read_excel(os.path.join(os.path.abspath((\"\")), \"JEC_basic_sentence_v1-3\", \"JEC_basic_sentence_v1-3.xls\").replace(\"\\\\\", \"/\"), header = None)"
   ]
  },
  {
   "cell_type": "code",
   "execution_count": 8,
   "metadata": {},
   "outputs": [
    {
     "name": "stdout",
     "output_type": "stream",
     "text": [
      "Collecting en-core-web-sm==3.8.0\n",
      "  Downloading https://github.com/explosion/spacy-models/releases/download/en_core_web_sm-3.8.0/en_core_web_sm-3.8.0-py3-none-any.whl (12.8 MB)\n",
      "     ---------------------------------------- 0.0/12.8 MB ? eta -:--:--\n",
      "     --- ------------------------------------ 1.0/12.8 MB 20.3 MB/s eta 0:00:01\n",
      "     ---- ----------------------------------- 1.5/12.8 MB 15.4 MB/s eta 0:00:01\n",
      "     ------- -------------------------------- 2.5/12.8 MB 17.8 MB/s eta 0:00:01\n",
      "     ---------- ----------------------------- 3.5/12.8 MB 18.3 MB/s eta 0:00:01\n",
      "     ------------- -------------------------- 4.4/12.8 MB 18.5 MB/s eta 0:00:01\n",
      "     ----------------- ---------------------- 5.5/12.8 MB 19.4 MB/s eta 0:00:01\n",
      "     -------------------- ------------------- 6.7/12.8 MB 20.2 MB/s eta 0:00:01\n",
      "     ------------------------ --------------- 7.8/12.8 MB 20.8 MB/s eta 0:00:01\n",
      "     --------------------------- ------------ 8.7/12.8 MB 20.5 MB/s eta 0:00:01\n",
      "     ------------------------------ --------- 9.8/12.8 MB 21.0 MB/s eta 0:00:01\n",
      "     ------------------------------- ------- 10.5/12.8 MB 21.1 MB/s eta 0:00:01\n",
      "     ------------------------------- ------- 10.5/12.8 MB 21.1 MB/s eta 0:00:01\n",
      "     ------------------------------- ------- 10.5/12.8 MB 21.1 MB/s eta 0:00:01\n",
      "     ---------------------------------- ---- 11.4/12.8 MB 18.2 MB/s eta 0:00:01\n",
      "     ------------------------------------ -- 12.0/12.8 MB 17.2 MB/s eta 0:00:01\n",
      "     --------------------------------------  12.8/12.8 MB 17.2 MB/s eta 0:00:01\n",
      "     --------------------------------------- 12.8/12.8 MB 15.2 MB/s eta 0:00:00\n",
      "Installing collected packages: en-core-web-sm\n",
      "Successfully installed en-core-web-sm-3.8.0\n",
      "\u001b[38;5;2m✔ Download and installation successful\u001b[0m\n",
      "You can now load the package via spacy.load('en_core_web_sm')\n"
     ]
    },
    {
     "name": "stderr",
     "output_type": "stream",
     "text": [
      "\n",
      "[notice] A new release of pip is available: 23.0.1 -> 24.2\n",
      "[notice] To update, run: python.exe -m pip install --upgrade pip\n"
     ]
    }
   ],
   "source": [
    "!python -m spacy download en_core_web_sm"
   ]
  },
  {
   "cell_type": "code",
   "execution_count": 13,
   "metadata": {},
   "outputs": [
    {
     "name": "stdout",
     "output_type": "stream",
     "text": [
      "0       [#, 0001]\n",
      "1       [#, 0002]\n",
      "2       [#, 0003]\n",
      "3       [#, 0004]\n",
      "4       [#, 0005]\n",
      "          ...    \n",
      "5299    [#, 5300]\n",
      "5300    [#, 5301]\n",
      "5301    [#, 5302]\n",
      "5302    [#, 5303]\n",
      "5303    [#, 5304]\n",
      "Name: 0, Length: 5304, dtype: object\n"
     ]
    }
   ],
   "source": [
    "j_t = Tokenizer()\n",
    "def j_tokenizer(text):\n",
    "    token = [tok for tok in j_t.tokenize(text, wakati=True)]\n",
    "    return token\n",
    "\n",
    "e_t = spacy.load(\"en_core_web_sm\")\n",
    "def e_tokenizer(text):\n",
    "    token = [tok.text for tok in e_t.tokenizer(text)]\n",
    "    return token\n",
    "\n",
    "texts = df.iloc[:,0].apply(j_tokenizer)\n",
    "targets = df.iloc[:,1].apply(e_tokenizer)\n",
    "print(texts)"
   ]
  },
  {
   "cell_type": "code",
   "execution_count": 14,
   "metadata": {},
   "outputs": [
    {
     "ename": "AttributeError",
     "evalue": "'Vocab' object has no attribute 'set_default_index'",
     "output_type": "error",
     "traceback": [
      "\u001b[1;31m---------------------------------------------------------------------------\u001b[0m",
      "\u001b[1;31mAttributeError\u001b[0m                            Traceback (most recent call last)",
      "Cell \u001b[1;32mIn[14], line 7\u001b[0m\n\u001b[0;32m      5\u001b[0m j_counter\u001b[38;5;241m.\u001b[39mupdate(j_list)\n\u001b[0;32m      6\u001b[0m j_v \u001b[38;5;241m=\u001b[39m Vocab(j_counter, specials\u001b[38;5;241m=\u001b[39m([\u001b[38;5;124m'\u001b[39m\u001b[38;5;124m<unk>\u001b[39m\u001b[38;5;124m'\u001b[39m, \u001b[38;5;124m'\u001b[39m\u001b[38;5;124m<pad>\u001b[39m\u001b[38;5;124m'\u001b[39m, \u001b[38;5;124m'\u001b[39m\u001b[38;5;124m<bos>\u001b[39m\u001b[38;5;124m'\u001b[39m, \u001b[38;5;124m'\u001b[39m\u001b[38;5;124m<eos>\u001b[39m\u001b[38;5;124m'\u001b[39m]))   \u001b[38;5;66;03m#特殊文字の定義\u001b[39;00m\n\u001b[1;32m----> 7\u001b[0m \u001b[43mj_v\u001b[49m\u001b[38;5;241;43m.\u001b[39;49m\u001b[43mset_default_index\u001b[49m(j_v[\u001b[38;5;124m'\u001b[39m\u001b[38;5;124m<unk>\u001b[39m\u001b[38;5;124m'\u001b[39m])\n\u001b[0;32m      8\u001b[0m j_v\u001b[38;5;241m.\u001b[39mset_default_index(j_v)\n",
      "\u001b[1;31mAttributeError\u001b[0m: 'Vocab' object has no attribute 'set_default_index'"
     ]
    }
   ],
   "source": [
    "j_list = []\n",
    "for i in range(len(texts)):\n",
    "    j_list.extend(texts[i])\n",
    "j_counter = Counter()\n",
    "j_counter.update(j_list)\n",
    "j_v = Vocab(j_counter, specials=(['<unk>', '<pad>', '<bos>', '<eos>']))   #特殊文字の定義\n",
    "j_v.set_default_index(j_v['<unk>'])\n",
    "j_v.set_default_index(j_v)\n"
   ]
  },
  {
   "cell_type": "code",
   "execution_count": null,
   "metadata": {},
   "outputs": [],
   "source": []
  }
 ],
 "metadata": {
  "kernelspec": {
   "display_name": "DNN_env",
   "language": "python",
   "name": "python3"
  },
  "language_info": {
   "codemirror_mode": {
    "name": "ipython",
    "version": 3
   },
   "file_extension": ".py",
   "mimetype": "text/x-python",
   "name": "python",
   "nbconvert_exporter": "python",
   "pygments_lexer": "ipython3",
   "version": "3.10.11"
  }
 },
 "nbformat": 4,
 "nbformat_minor": 2
}
